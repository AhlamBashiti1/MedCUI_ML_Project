{
  "nbformat": 4,
  "nbformat_minor": 0,
  "metadata": {
    "colab": {
      "provenance": [],
      "authorship_tag": "ABX9TyMIwXlpxZaHC8dTfDFgadT4",
      "include_colab_link": true
    },
    "kernelspec": {
      "name": "python3",
      "display_name": "Python 3"
    },
    "language_info": {
      "name": "python"
    }
  },
  "cells": [
    {
      "cell_type": "markdown",
      "metadata": {
        "id": "view-in-github",
        "colab_type": "text"
      },
      "source": [
        "<a href=\"https://colab.research.google.com/github/AhlamBashiti1/MedCUI_ML_Project/blob/main/Mapping_Images_Texts_CUI_Clusters.ipynb\" target=\"_parent\"><img src=\"https://colab.research.google.com/assets/colab-badge.svg\" alt=\"Open In Colab\"/></a>"
      ]
    },
    {
      "cell_type": "markdown",
      "source": [
        "## 🎯 Data Preprocessing: Merging Captions and Concepts\n",
        "\n",
        "We begin preparing the data for **multi-label classification** by merging information from two sources:\n",
        "\n",
        "📂 **Input Files**:\n",
        "- 🖼️ File 1: Contains `image_id` (named `ID`) and its corresponding **image caption**.\n",
        "- 🧠 File 2: Contains `image_id` and a list of **clinical CUIs** (Concept Unique Identifiers), which represent medical concepts.\n",
        "\n",
        "🔗 **Goal**: Merge both files into a single unified dataset with the following structure:\n",
        "\n"
      ],
      "metadata": {
        "id": "T9XXOqjFIPuD"
      }
    },
    {
      "cell_type": "markdown",
      "source": [
        "\n",
        "This merge is based on the shared `image_id` key. It is a **crucial step**, as we need both the **visual description (captions)** and the **medical annotations (CUIs)** for every image to perform meaningful learning.\n",
        "\n",
        "♻️ **Applied to all splits**:\n",
        "- ✅ Training set\n",
        "- ✅ Validation set\n",
        "- ✅ Test set\n",
        "\n",
        "This ensures that the full dataset is consistently formatted for downstream processing like cluster mapping and multi-label encoding.\n"
      ],
      "metadata": {
        "id": "Im9uC_bvT3CY"
      }
    },
    {
      "cell_type": "markdown",
      "source": [
        "## 📥 Clone Dataset Repository\n",
        "\n",
        "We start by cloning the **ROCOv2 Radiology** dataset repository from GitHub:\n",
        "\n",
        "```bash\n",
        "!git clone https://github.com/sctg-development/ROCOv2-radiology.git\n"
      ],
      "metadata": {
        "id": "nEiYdglJU-CS"
      }
    },
    {
      "cell_type": "code",
      "execution_count": 21,
      "metadata": {
        "colab": {
          "base_uri": "https://localhost:8080/"
        },
        "id": "BwkpinxAJLX9",
        "outputId": "70ac701b-512c-411d-eb8d-8b45264f1d07"
      },
      "outputs": [
        {
          "output_type": "stream",
          "name": "stdout",
          "text": [
            "fatal: destination path 'ROCOv2-radiology' already exists and is not an empty directory.\n"
          ]
        }
      ],
      "source": [
        "!git clone https://github.com/sctg-development/ROCOv2-radiology.git"
      ]
    },
    {
      "cell_type": "code",
      "source": [
        "import pandas as pd\n",
        "from sklearn.preprocessing import MultiLabelBinarizer\n",
        "import numpy as np\n"
      ],
      "metadata": {
        "id": "Ye43benT-vAk"
      },
      "execution_count": 9,
      "outputs": []
    },
    {
      "cell_type": "code",
      "source": [
        "\n",
        "# Load both CSV files\n",
        "captions_df = pd.read_csv('/content/ROCOv2-radiology/source_dataset/train_captions.csv')\n",
        "cuis_df = pd.read_csv('/content/ROCOv2-radiology/source_dataset/train_concepts.csv')\n",
        "\n",
        "# Merge them on 'image_id'\n",
        "merged_df = pd.merge(captions_df, cuis_df, on='ID')\n",
        "\n",
        "# Save the result as CSV\n",
        "output_path = '/content/MergeAllTrain.csv'\n",
        "merged_df.to_csv(output_path, index=False)\n",
        "\n",
        "print(f\"Merged file saved as '{output_path}'\")\n",
        "\n",
        "\n"
      ],
      "metadata": {
        "colab": {
          "base_uri": "https://localhost:8080/"
        },
        "id": "tYpeOwMvAoqD",
        "outputId": "48628ed5-9d4f-4f3b-d261-3685b8e2f02b"
      },
      "execution_count": 13,
      "outputs": [
        {
          "output_type": "stream",
          "name": "stdout",
          "text": [
            "Merged file saved as '/content/MergeAllTrain.csv'\n"
          ]
        }
      ]
    },
    {
      "cell_type": "code",
      "source": [
        "# Load both CSV files\n",
        "captions_df = pd.read_csv('/content/ROCOv2-radiology/source_dataset/valid_captions.csv')\n",
        "cuis_df = pd.read_csv('/content/ROCOv2-radiology/source_dataset/valid_concepts.csv')\n",
        "\n",
        "# Merge them on 'image_id'\n",
        "merged_df = pd.merge(captions_df, cuis_df, on='ID')\n",
        "\n",
        "# Save the result as CSV\n",
        "output_path = '/content/MergeAllValid.csv'\n",
        "merged_df.to_csv(output_path, index=False)\n",
        "\n",
        "print(f\"Merged file saved as '{output_path}'\")"
      ],
      "metadata": {
        "colab": {
          "base_uri": "https://localhost:8080/"
        },
        "id": "gdjYZa2SINFt",
        "outputId": "afc347c6-5687-497c-b4bd-152331297156"
      },
      "execution_count": 14,
      "outputs": [
        {
          "output_type": "stream",
          "name": "stdout",
          "text": [
            "Merged file saved as '/content/MergeAllValid.csv'\n"
          ]
        }
      ]
    },
    {
      "cell_type": "code",
      "source": [
        "# Load both CSV files\n",
        "captions_df = pd.read_csv('/content/ROCOv2-radiology/source_dataset/test_captions.csv')\n",
        "cuis_df = pd.read_csv('/content/ROCOv2-radiology/source_dataset/test_concepts.csv')\n",
        "\n",
        "# Merge them on 'image_id'\n",
        "merged_df = pd.merge(captions_df, cuis_df, on='ID')\n",
        "\n",
        "# Save the result as CSV\n",
        "output_path = '/content/MergeAllTest.csv'\n",
        "merged_df.to_csv(output_path, index=False)\n",
        "\n",
        "print(f\"Merged file saved as '{output_path}'\")"
      ],
      "metadata": {
        "colab": {
          "base_uri": "https://localhost:8080/"
        },
        "id": "G05mhHGeJJQu",
        "outputId": "cfafbdbc-6615-4727-e52d-3cb016599bc2"
      },
      "execution_count": 15,
      "outputs": [
        {
          "output_type": "stream",
          "name": "stdout",
          "text": [
            "Merged file saved as '/content/MergeAllTest.csv'\n"
          ]
        }
      ]
    },
    {
      "cell_type": "markdown",
      "source": [
        "## 🧠 Concept Clustering and Multi-Label Encoding\n",
        "\n",
        "After merging captions and CUIs, we proceed to map each CUI to a **cluster label** and transform the data into a format suitable for multi-label classification.\n",
        "\n",
        "🔍 **Step 1: Normalize and Map CUIs**\n",
        "- CUIs are cleaned (uppercase, stripped).\n",
        "- Using a precomputed mapping file, each CUI is mapped to a **cluster index** (e.g., `C0002871` → `Cluster 2`).\n",
        "- For each image, we collect all mapped cluster labels into a list.\n",
        "\n",
        "⚠️ If an image’s CUIs do not match any known cluster, it is marked as `\"UNKNOWN\"` and **removed** from the dataset to ensure label quality.\n",
        "\n",
        "🧪 Example:\n"
      ],
      "metadata": {
        "id": "FBYFmTzVUeZh"
      }
    },
    {
      "cell_type": "markdown",
      "source": [
        "\n",
        "---\n",
        "\n",
        "🏷️ **Step 2: Multi-Label Encoding**\n",
        "- We apply **MultiLabelBinarizer** to convert the list of cluster labels into a **multi-hot encoded vector**.\n",
        "- Each cluster becomes a column (`cluster_0`, `cluster_1`, ...) with 0 or 1 indicating absence or presence.\n",
        "- The encoder is **fitted on the training set** only, and then reused on the validation and test sets to ensure consistency.\n",
        "\n",
        "🧾 **Final Output Columns**:\n",
        "- `ID`, `Caption`, `CUIs` — original data\n",
        "- `clusters` — comma-separated cluster labels\n",
        "- `multi_hot_vector` — full binary vector\n",
        "- One column per cluster class (for model training)\n",
        "\n",
        "✅ This prepares the data for training a **multi-label classifier**, where each image can be associated with multiple concept clusters.\n"
      ],
      "metadata": {
        "id": "MbwUxTKLUmiU"
      }
    },
    {
      "cell_type": "code",
      "source": [
        "import pandas as pd\n",
        "from sklearn.preprocessing import MultiLabelBinarizer\n",
        "\n",
        "def process_caption_cui_file(\n",
        "    merged_path,              # Path to merged file with ID, Caption, CUIs\n",
        "    cui_cluster_path,         # Path to CSV with CUI → cluster\n",
        "    output_path               # Where to save final file\n",
        "):\n",
        "    # 1. Load files\n",
        "    image_cuis_df = pd.read_csv(merged_path)\n",
        "    cui_cluster_df = pd.read_csv(cui_cluster_path)\n",
        "\n",
        "    # 2. Normalize CUIs\n",
        "    image_cuis_df['CUIs'] = image_cuis_df['CUIs'].astype(str).str.strip().str.upper()\n",
        "    cui_cluster_df['CUI'] = cui_cluster_df['CUI'].astype(str).str.strip().str.upper()\n",
        "\n",
        "    # 3. Create CUI → Cluster mapping\n",
        "    cui_to_cluster = dict(zip(cui_cluster_df['CUI'], cui_cluster_df['cluster']))\n",
        "\n",
        "    # 4. Map CUIs to cluster labels\n",
        "    def get_clusters_from_cuis(cuis_str):\n",
        "        cuis = [c.strip().upper() for c in str(cuis_str).split(';') if c.strip()]\n",
        "        clusters = [str(cui_to_cluster.get(cui)) for cui in cuis if cui in cui_to_cluster]\n",
        "        return list(set(clusters)) if clusters else [\"UNKNOWN\"]\n",
        "\n",
        "    image_cuis_df['cluster_labels'] = image_cuis_df['CUIs'].apply(get_clusters_from_cuis)\n",
        "    image_cuis_df['clusters'] = image_cuis_df['cluster_labels'].apply(\n",
        "        lambda x: \",\".join(x) if x else \"UNKNOWN\"\n",
        "    )\n",
        "\n",
        "    # 5. Remove UNKNOWN rows\n",
        "    image_cuis_df = image_cuis_df[image_cuis_df['clusters'] != \"UNKNOWN\"].reset_index(drop=True)\n",
        "\n",
        "    # 6. Multi-hot encode\n",
        "    mlb = MultiLabelBinarizer()\n",
        "    y_multi_hot = mlb.fit_transform(image_cuis_df['cluster_labels'])\n",
        "    class_names = mlb.classes_\n",
        "\n",
        "    # 7. Prepare multi-hot DataFrame\n",
        "    y_df = pd.DataFrame(y_multi_hot, columns=class_names)\n",
        "    image_cuis_df['multi_hot_vector'] = y_df.apply(lambda row: row.tolist(), axis=1)\n",
        "\n",
        "    # 8. Final merge and save\n",
        "    final_df = pd.concat([\n",
        "        image_cuis_df[['ID', 'Caption', 'CUIs', 'clusters', 'multi_hot_vector']],\n",
        "        y_df.reset_index(drop=True)\n",
        "    ], axis=1)\n",
        "\n",
        "    final_df.to_csv(output_path, index=False)\n",
        "    print(f\"Saved: {output_path} — shape: {final_df.shape} — classes: {list(class_names)}\")\n"
      ],
      "metadata": {
        "id": "pErd6WUdJ2MX"
      },
      "execution_count": 24,
      "outputs": []
    },
    {
      "cell_type": "code",
      "source": [
        "# Set paths for each split\n",
        "train_file = \"/content/MergeAllTrain.csv\"\n",
        "val_file = \"/content/MergeAllValid.csv\"\n",
        "test_file = \"/content/MergeAllTest.csv\"\n",
        "cui_cluster_file = \"/content/clustered_cui2.csv\"\n",
        "\n",
        "# Process each split\n",
        "process_caption_cui_file(train_file, cui_cluster_file, \"Train_with_clusters.csv\")\n",
        "process_caption_cui_file(val_file, cui_cluster_file, \"Val_with_clusters.csv\")\n",
        "process_caption_cui_file(test_file, cui_cluster_file, \"Test_with_clusters.csv\")\n"
      ],
      "metadata": {
        "colab": {
          "base_uri": "https://localhost:8080/"
        },
        "id": "YI7w_klNQYNG",
        "outputId": "c62eae61-a2fd-41fe-91d5-c3ad4c379336"
      },
      "execution_count": 25,
      "outputs": [
        {
          "output_type": "stream",
          "name": "stdout",
          "text": [
            "Saved: Train_with_clusters.csv — shape: (59957, 9) — classes: ['0', '1', '2', '3']\n",
            "Saved: Val_with_clusters.csv — shape: (9904, 9) — classes: ['0', '1', '2', '3']\n",
            "Saved: Test_with_clusters.csv — shape: (9927, 9) — classes: ['0', '1', '2', '3']\n"
          ]
        }
      ]
    }
  ]
}