{
  "nbformat": 4,
  "nbformat_minor": 0,
  "metadata": {
    "colab": {
      "provenance": [],
      "gpuType": "T4",
      "authorship_tag": "ABX9TyNLOW/SYE29ov3xm/JFNh6N",
      "include_colab_link": true
    },
    "kernelspec": {
      "name": "python3",
      "display_name": "Python 3"
    },
    "language_info": {
      "name": "python"
    },
    "accelerator": "GPU"
  },
  "cells": [
    {
      "cell_type": "markdown",
      "metadata": {
        "id": "view-in-github",
        "colab_type": "text"
      },
      "source": [
        "<a href=\"https://colab.research.google.com/github/AhlamBashiti1/MedCUI_ML_Project/blob/main/ImageModelUpdated.ipynb\" target=\"_parent\"><img src=\"https://colab.research.google.com/assets/colab-badge.svg\" alt=\"Open In Colab\"/></a>"
      ]
    },
    {
      "cell_type": "code",
      "execution_count": 1,
      "metadata": {
        "colab": {
          "base_uri": "https://localhost:8080/"
        },
        "id": "W3XePoZrERqN",
        "outputId": "67bd2a32-4fdc-4b3a-aa5f-c1c5dc2068a9"
      },
      "outputs": [
        {
          "output_type": "stream",
          "name": "stdout",
          "text": [
            "Cloning into 'ROCOv2-radiology'...\n",
            "remote: Enumerating objects: 80464, done.\u001b[K\n",
            "remote: Counting objects: 100% (10/10), done.\u001b[K\n",
            "remote: Compressing objects: 100% (9/9), done.\u001b[K\n",
            "remote: Total 80464 (delta 6), reused 1 (delta 1), pack-reused 80454 (from 3)\u001b[K\n",
            "Receiving objects: 100% (80464/80464), 5.89 GiB | 23.43 MiB/s, done.\n",
            "Resolving deltas: 100% (1745/1745), done.\n",
            "Updating files: 100% (79808/79808), done.\n"
          ]
        }
      ],
      "source": [
        "!git clone https://github.com/sctg-development/ROCOv2-radiology.git"
      ]
    },
    {
      "cell_type": "code",
      "source": [
        "import os\n",
        "import cv2\n",
        "import numpy as np\n",
        "import pandas as pd\n",
        "import matplotlib.pyplot as plt\n",
        "from sklearn.decomposition import PCA\n",
        "from sklearn.ensemble import RandomForestClassifier, AdaBoostClassifier\n",
        "from sklearn.svm import SVC\n",
        "from sklearn.tree import DecisionTreeClassifier\n",
        "from sklearn.neighbors import KNeighborsClassifier\n",
        "from sklearn.naive_bayes import GaussianNB\n",
        "from sklearn.multioutput import MultiOutputClassifier\n",
        "from sklearn.metrics import classification_report, f1_score, precision_score, recall_score\n",
        "from skimage.feature import local_binary_pattern, graycomatrix, graycoprops, hog\n",
        "from skimage.filters import sobel\n",
        "from scipy.fft import fft\n",
        "\n",
        "# ======================== Feature Extraction ===========================\n",
        "'''\n",
        "def extract_lbp_features(img_gray, P=8, R=1):\n",
        "    lbp = local_binary_pattern(img_gray, P, R, method='uniform')\n",
        "    hist, _ = np.histogram(lbp.ravel(), bins=np.arange(0, P+3), range=(0, P+2))\n",
        "    hist = hist.astype('float')\n",
        "    hist /= (hist.sum() + 1e-6)\n",
        "    return hist\n",
        "\n",
        "def extract_hog_features(img_gray):\n",
        "    features, _ = hog(img_gray, pixels_per_cell=(16, 16), cells_per_block=(2, 2), visualize=True)\n",
        "    return features\n",
        "\n",
        "def extract_glcm_features(img_gray):\n",
        "    glcm = graycomatrix(img_gray, distances=[1], angles=[0], symmetric=True, normed=True)\n",
        "    props = ['contrast', 'dissimilarity', 'homogeneity', 'energy', 'correlation']\n",
        "    return [graycoprops(glcm, p)[0, 0] for p in props]\n",
        "\n",
        "def extract_moment_features(img_gray):\n",
        "    m = cv2.moments(img_gray)\n",
        "    return [m['m00'], m['m01'], m['m10'], m['mu20'], m['mu11'], m['mu02']]\n",
        "\n",
        "def extract_edge_features(img_gray):\n",
        "    edge = sobel(img_gray)\n",
        "    hist, _ = np.histogram(edge.ravel(), bins=10, range=(0, 1))\n",
        "    hist = hist.astype('float')\n",
        "    hist /= (hist.sum() + 1e-6)\n",
        "    return hist\n",
        "\n",
        "def extract_fourier_descriptors(img_gray, num_descriptors=10):\n",
        "    _, thresh = cv2.threshold(img_gray, 127, 255, cv2.THRESH_BINARY)\n",
        "    contours, _ = cv2.findContours(thresh, cv2.RETR_EXTERNAL, cv2.CHAIN_APPROX_NONE)\n",
        "    if not contours:\n",
        "        return np.zeros(num_descriptors)\n",
        "    cnt = max(contours, key=cv2.contourArea)\n",
        "    cnt = cnt.reshape(-1, 2)  # prevent scalar indexing error\n",
        "\n",
        "    complex_cnt = np.array([complex(p[0], p[1]) for p in cnt])\n",
        "    fourier_result = fft(complex_cnt)\n",
        "    desc = np.abs(fourier_result[1:num_descriptors+1])\n",
        "    desc /= (np.linalg.norm(desc) + 1e-6)\n",
        "    return desc\n",
        "\n",
        "def extract_features(image_path, size=(128, 128)):\n",
        "    img = cv2.imread(image_path, cv2.IMREAD_GRAYSCALE)\n",
        "    if img is None:\n",
        "        raise ValueError(f\"Image not found: {image_path}\")\n",
        "    img = cv2.resize(img, size)\n",
        "    return np.concatenate([\n",
        "        extract_lbp_features(img),\n",
        "        extract_hog_features(img),\n",
        "        extract_glcm_features(img),\n",
        "        extract_moment_features(img),\n",
        "        extract_edge_features(img),\n",
        "        extract_fourier_descriptors(img)\n",
        "    ])\n",
        "'''\n",
        "def extract_lbp_features(img_gray, P=8, R=1):\n",
        "    lbp = local_binary_pattern(img_gray, P, R, method='uniform')\n",
        "    hist, _ = np.histogram(lbp.ravel(), bins=np.arange(0, P+3), range=(0, P+2))\n",
        "    hist = hist.astype('float')\n",
        "    hist /= (hist.sum() + 1e-6)\n",
        "    return hist\n",
        "\n",
        "def extract_hog_features(img_gray):\n",
        "    features, _ = hog(img_gray,\n",
        "                      pixels_per_cell=(16, 16),\n",
        "                      cells_per_block=(2, 2),\n",
        "                      visualize=True)\n",
        "    return features\n",
        "\n",
        "def extract_glcm_features(img_gray):\n",
        "    glcm = graycomatrix(img_gray, distances=[1], angles=[0], symmetric=True, normed=True)\n",
        "    props = ['contrast', 'dissimilarity', 'homogeneity', 'energy', 'correlation']\n",
        "    return [graycoprops(glcm, p)[0, 0] for p in props]\n",
        "\n",
        "def extract_features(image_path, size=(128, 128)):\n",
        "    img = cv2.imread(image_path, cv2.IMREAD_GRAYSCALE)\n",
        "    if img is None:\n",
        "        raise ValueError(f\"Image not found: {image_path}\")\n",
        "    img = cv2.resize(img, size)\n",
        "    f1 = extract_lbp_features(img)\n",
        "    f2 = extract_hog_features(img)\n",
        "    f3 = extract_glcm_features(img)\n",
        "    return np.concatenate([f1, f2, f3])"
      ],
      "metadata": {
        "id": "U7rCKSn5EWp6"
      },
      "execution_count": 12,
      "outputs": []
    },
    {
      "cell_type": "code",
      "source": [
        "\n",
        "def load_data(csv_path, image_dir, resize=(128, 128), ext=\".jpg\"):\n",
        "    df = pd.read_csv(csv_path)\n",
        "\n",
        "    label_columns = [str(i) for i in range(4)]  # only labels 0,1,2,3\n",
        "    labels = df[label_columns].values\n",
        "    feature_list = []\n",
        "\n",
        "    for _, row in tqdm(df.iterrows(), total=len(df)):\n",
        "        img_path = os.path.join(image_dir, row['ID'] + ext)\n",
        "        try:\n",
        "            features = extract_features(img_path, resize)\n",
        "            feature_list.append(features)\n",
        "        except Exception as e:\n",
        "            print(f\"Error with {img_path}: {e}\")\n",
        "\n",
        "    return np.stack(feature_list), labels\n"
      ],
      "metadata": {
        "id": "YpcGRHxlKi9R"
      },
      "execution_count": 13,
      "outputs": []
    },
    {
      "cell_type": "code",
      "source": [
        "from tqdm import tqdm\n",
        "\n",
        "# Adjust paths as needed\n",
        "train_csv = \"/content/Train_with_clusters.csv\"\n",
        "val_csv = \"/content/Val_with_clusters.csv\"\n",
        "test_csv = \"/content/Test_with_clusters.csv\"\n",
        "\n",
        "train_img_dir = \"/content/ROCOv2-radiology/source_dataset/train\"\n",
        "val_img_dir = \"/content/ROCOv2-radiology/source_dataset/valid\"\n",
        "test_img_dir = \"/content/ROCOv2-radiology/source_dataset/test\"\n",
        "\n",
        "# Load all sets\n",
        "X_train, y_train = load_data(train_csv, train_img_dir)\n",
        "X_val, y_val = load_data(val_csv, val_img_dir)\n",
        "X_test, y_test = load_data(test_csv, test_img_dir)\n",
        "\n",
        "print(\"Shapes:\", X_train.shape, y_train.shape)"
      ],
      "metadata": {
        "colab": {
          "base_uri": "https://localhost:8080/"
        },
        "id": "csodbH6JE-Az",
        "outputId": "57c90744-f286-4d5d-abda-9c8c0a4902f2"
      },
      "execution_count": 14,
      "outputs": [
        {
          "output_type": "stream",
          "name": "stderr",
          "text": [
            "100%|██████████| 59957/59957 [24:56<00:00, 40.06it/s]\n",
            "100%|██████████| 9904/9904 [04:05<00:00, 40.33it/s]\n",
            "100%|██████████| 9927/9927 [04:11<00:00, 39.42it/s]\n"
          ]
        },
        {
          "output_type": "stream",
          "name": "stdout",
          "text": [
            "Shapes: (59957, 1779) (59957, 4)\n"
          ]
        }
      ]
    },
    {
      "cell_type": "code",
      "source": [
        "# Assume X_train, y_train, X_test, y_test are already loaded\n",
        "from sklearn.model_selection import train_test_split\n",
        "\n",
        "# Example only: load your data correctly\n",
        "# X, y = features_array, label_array\n",
        "# X_train, X_test, y_train, y_test = train_test_split(X, y, test_size=0.2, random_state=42)\n",
        "\n",
        "# PCA\n",
        "pca = PCA(n_components=0.95)\n",
        "X_train_pca = pca.fit_transform(X_train)\n",
        "X_test_pca = pca.transform(X_test)\n",
        "\n",
        "print(f\"PCA reduced from {X_train.shape[1]} to {X_train_pca.shape[1]} dimensions.\")\n",
        "\n",
        "# Evaluation dictionary\n",
        "results = {}\n",
        "\n",
        "def train_and_evaluate(name, base_model, use_pca=False):\n",
        "    print(f\"\\n===== {name} {'+ PCA' if use_pca else ''} =====\")\n",
        "    clf = MultiOutputClassifier(base_model, n_jobs=-1)\n",
        "\n",
        "    X_tr = X_train_pca if use_pca else X_train\n",
        "    X_te = X_test_pca if use_pca else X_test\n",
        "\n",
        "    clf.fit(X_tr, y_train)\n",
        "    y_pred = clf.predict(X_te)\n",
        "\n",
        "    f1 = f1_score(y_test, y_pred, average='macro')\n",
        "    precision = precision_score(y_test, y_pred, average='macro')\n",
        "    recall = recall_score(y_test, y_pred, average='macro')\n",
        "\n",
        "    results[name + (' + PCA' if use_pca else '')] = {\n",
        "        'F1': f1,\n",
        "        'Precision': precision,\n",
        "        'Recall': recall\n",
        "    }\n",
        "\n",
        "    print(classification_report(y_test, y_pred))\n"
      ],
      "metadata": {
        "colab": {
          "base_uri": "https://localhost:8080/"
        },
        "id": "GrLXc8xsFLn7",
        "outputId": "2598aa0d-5e11-476d-89cf-983558157019"
      },
      "execution_count": 31,
      "outputs": [
        {
          "output_type": "stream",
          "name": "stdout",
          "text": [
            "PCA reduced from 1779 to 1 dimensions.\n"
          ]
        }
      ]
    },
    {
      "cell_type": "code",
      "source": [
        "from sklearn.linear_model import LogisticRegression\n",
        "\n",
        "train_and_evaluate(\"LogisticRegression\", LogisticRegression(solver='liblinear', max_iter=1000), use_pca=True)\n"
      ],
      "metadata": {
        "colab": {
          "base_uri": "https://localhost:8080/"
        },
        "id": "Ddo8wTumYXIC",
        "outputId": "4ba52fe9-40cd-423c-a1c6-649f47af6e99"
      },
      "execution_count": 32,
      "outputs": [
        {
          "output_type": "stream",
          "name": "stdout",
          "text": [
            "\n",
            "===== LogisticRegression + PCA =====\n",
            "              precision    recall  f1-score   support\n",
            "\n",
            "           0       0.55      0.77      0.64      5315\n",
            "           1       0.89      1.00      0.94      8808\n",
            "           2       0.00      0.00      0.00      2031\n",
            "           3       0.67      0.99      0.80      6649\n",
            "\n",
            "   micro avg       0.72      0.86      0.78     22803\n",
            "   macro avg       0.53      0.69      0.59     22803\n",
            "weighted avg       0.67      0.86      0.75     22803\n",
            " samples avg       0.72      0.88      0.76     22803\n",
            "\n"
          ]
        },
        {
          "output_type": "stream",
          "name": "stderr",
          "text": [
            "/usr/local/lib/python3.11/dist-packages/sklearn/metrics/_classification.py:1565: UndefinedMetricWarning: Precision is ill-defined and being set to 0.0 in labels with no predicted samples. Use `zero_division` parameter to control this behavior.\n",
            "  _warn_prf(average, modifier, f\"{metric.capitalize()} is\", len(result))\n",
            "/usr/local/lib/python3.11/dist-packages/sklearn/metrics/_classification.py:1565: UndefinedMetricWarning: Precision is ill-defined and being set to 0.0 in labels with no predicted samples. Use `zero_division` parameter to control this behavior.\n",
            "  _warn_prf(average, modifier, f\"{metric.capitalize()} is\", len(result))\n"
          ]
        }
      ]
    },
    {
      "cell_type": "code",
      "source": [
        "from sklearn.svm import LinearSVC\n",
        "\n",
        "train_and_evaluate(\"LinearSVC\", OneVsRestClassifier(LinearSVC(max_iter=2000)), use_pca=True)\n",
        ""
      ],
      "metadata": {
        "colab": {
          "base_uri": "https://localhost:8080/"
        },
        "id": "c_3-UoUGZ_C1",
        "outputId": "31e1eb67-3ac6-4b78-d664-8e05e428bddb"
      },
      "execution_count": 33,
      "outputs": [
        {
          "output_type": "stream",
          "name": "stdout",
          "text": [
            "\n",
            "===== LinearSVC + PCA =====\n",
            "              precision    recall  f1-score   support\n",
            "\n",
            "           0       0.55      0.77      0.64      5315\n",
            "           1       0.89      1.00      0.94      8808\n",
            "           2       0.00      0.00      0.00      2031\n",
            "           3       0.67      1.00      0.80      6649\n",
            "\n",
            "   micro avg       0.72      0.86      0.78     22803\n",
            "   macro avg       0.53      0.69      0.59     22803\n",
            "weighted avg       0.67      0.86      0.75     22803\n",
            " samples avg       0.72      0.88      0.76     22803\n",
            "\n"
          ]
        },
        {
          "output_type": "stream",
          "name": "stderr",
          "text": [
            "/usr/local/lib/python3.11/dist-packages/sklearn/metrics/_classification.py:1565: UndefinedMetricWarning: Precision is ill-defined and being set to 0.0 in labels with no predicted samples. Use `zero_division` parameter to control this behavior.\n",
            "  _warn_prf(average, modifier, f\"{metric.capitalize()} is\", len(result))\n",
            "/usr/local/lib/python3.11/dist-packages/sklearn/metrics/_classification.py:1565: UndefinedMetricWarning: Precision is ill-defined and being set to 0.0 in labels with no predicted samples. Use `zero_division` parameter to control this behavior.\n",
            "  _warn_prf(average, modifier, f\"{metric.capitalize()} is\", len(result))\n"
          ]
        }
      ]
    },
    {
      "cell_type": "code",
      "source": [
        "# Without PCA (work fine with high dimensions)\n",
        "train_and_evaluate(\"Random Forest\", RandomForestClassifier(n_estimators=100, n_jobs=-1), use_pca=False)\n",
        "train_and_evaluate(\"AdaBoost\", AdaBoostClassifier(n_estimators=100), use_pca=False)\n",
        "train_and_evaluate(\"Decision Tree\", DecisionTreeClassifier(), use_pca=False)\n",
        "\n",
        "# With PCA (better for high-dim sensitive classifiers)\n",
        "train_and_evaluate(\"K-Nearest Neighbors\", KNeighborsClassifier(n_neighbors=5, n_jobs=-1), use_pca=True)\n",
        "train_and_evaluate(\"SVM\", SVC(probability=True, kernel='rbf'), use_pca=True)\n",
        "train_and_evaluate(\"Naïve Bayes\", GaussianNB(), use_pca=True)\n"
      ],
      "metadata": {
        "colab": {
          "base_uri": "https://localhost:8080/"
        },
        "id": "6TtKJpyOFNsv",
        "outputId": "a9477b7c-b14e-4331-f26e-ae368606e197"
      },
      "execution_count": 16,
      "outputs": [
        {
          "output_type": "stream",
          "name": "stdout",
          "text": [
            "\n",
            "===== Random Forest  =====\n",
            "              precision    recall  f1-score   support\n",
            "\n",
            "           0       0.63      0.55      0.59      5315\n",
            "           1       0.89      1.00      0.94      8808\n",
            "           2       0.96      0.08      0.15      2031\n",
            "           3       0.71      0.94      0.81      6649\n",
            "\n",
            "   micro avg       0.78      0.79      0.78     22803\n",
            "   macro avg       0.80      0.64      0.62     22803\n",
            "weighted avg       0.79      0.79      0.75     22803\n",
            " samples avg       0.78      0.82      0.77     22803\n",
            "\n",
            "\n",
            "===== AdaBoost  =====\n"
          ]
        },
        {
          "output_type": "stream",
          "name": "stderr",
          "text": [
            "/usr/local/lib/python3.11/dist-packages/sklearn/metrics/_classification.py:1565: UndefinedMetricWarning: Precision is ill-defined and being set to 0.0 in samples with no predicted labels. Use `zero_division` parameter to control this behavior.\n",
            "  _warn_prf(average, modifier, f\"{metric.capitalize()} is\", len(result))\n"
          ]
        },
        {
          "output_type": "stream",
          "name": "stdout",
          "text": [
            "              precision    recall  f1-score   support\n",
            "\n",
            "           0       0.61      0.56      0.58      5315\n",
            "           1       0.91      0.98      0.94      8808\n",
            "           2       0.74      0.09      0.16      2031\n",
            "           3       0.73      0.87      0.79      6649\n",
            "\n",
            "   micro avg       0.78      0.77      0.77     22803\n",
            "   macro avg       0.75      0.63      0.62     22803\n",
            "weighted avg       0.77      0.77      0.75     22803\n",
            " samples avg       0.79      0.80      0.76     22803\n",
            "\n",
            "\n",
            "===== Decision Tree  =====\n"
          ]
        },
        {
          "output_type": "stream",
          "name": "stderr",
          "text": [
            "/usr/local/lib/python3.11/dist-packages/sklearn/metrics/_classification.py:1565: UndefinedMetricWarning: Precision is ill-defined and being set to 0.0 in samples with no predicted labels. Use `zero_division` parameter to control this behavior.\n",
            "  _warn_prf(average, modifier, f\"{metric.capitalize()} is\", len(result))\n"
          ]
        },
        {
          "output_type": "stream",
          "name": "stdout",
          "text": [
            "              precision    recall  f1-score   support\n",
            "\n",
            "           0       0.58      0.55      0.56      5315\n",
            "           1       0.92      0.87      0.89      8808\n",
            "           2       0.27      0.30      0.29      2031\n",
            "           3       0.73      0.71      0.72      6649\n",
            "\n",
            "   micro avg       0.72      0.70      0.71     22803\n",
            "   macro avg       0.62      0.61      0.62     22803\n",
            "weighted avg       0.72      0.70      0.71     22803\n",
            " samples avg       0.72      0.72      0.68     22803\n",
            "\n",
            "\n",
            "===== K-Nearest Neighbors + PCA =====\n",
            "              precision    recall  f1-score   support\n",
            "\n",
            "           0       0.54      0.54      0.54      5315\n",
            "           1       0.89      0.98      0.93      8808\n",
            "           2       0.21      0.08      0.12      2031\n",
            "           3       0.67      0.79      0.73      6649\n",
            "\n",
            "   micro avg       0.72      0.74      0.73     22803\n",
            "   macro avg       0.58      0.60      0.58     22803\n",
            "weighted avg       0.68      0.74      0.71     22803\n",
            " samples avg       0.73      0.77      0.71     22803\n",
            "\n",
            "\n",
            "===== SVM + PCA =====\n",
            "              precision    recall  f1-score   support\n",
            "\n",
            "           0       0.60      0.35      0.45      5315\n",
            "           1       0.89      1.00      0.94      8808\n",
            "           2       0.00      0.00      0.00      2031\n",
            "           3       0.67      1.00      0.80      6649\n",
            "\n",
            "   micro avg       0.75      0.76      0.76     22803\n",
            "   macro avg       0.54      0.59      0.55     22803\n",
            "weighted avg       0.68      0.76      0.70     22803\n",
            " samples avg       0.75      0.79      0.74     22803\n",
            "\n",
            "\n",
            "===== Naïve Bayes + PCA =====\n",
            "              precision    recall  f1-score   support\n",
            "\n",
            "           0       0.55      0.77      0.64      5315\n",
            "           1       0.89      1.00      0.94      8808\n",
            "           2       0.00      0.00      0.00      2031\n",
            "           3       0.67      0.99      0.80      6649\n",
            "\n",
            "   micro avg       0.72      0.85      0.78     22803\n",
            "   macro avg       0.53      0.69      0.59     22803\n",
            "weighted avg       0.67      0.85      0.75     22803\n",
            " samples avg       0.72      0.88      0.76     22803\n",
            "\n"
          ]
        },
        {
          "output_type": "stream",
          "name": "stderr",
          "text": [
            "/usr/local/lib/python3.11/dist-packages/sklearn/metrics/_classification.py:1565: UndefinedMetricWarning: Precision is ill-defined and being set to 0.0 in labels with no predicted samples. Use `zero_division` parameter to control this behavior.\n",
            "  _warn_prf(average, modifier, f\"{metric.capitalize()} is\", len(result))\n",
            "/usr/local/lib/python3.11/dist-packages/sklearn/metrics/_classification.py:1565: UndefinedMetricWarning: Precision is ill-defined and being set to 0.0 in labels with no predicted samples. Use `zero_division` parameter to control this behavior.\n",
            "  _warn_prf(average, modifier, f\"{metric.capitalize()} is\", len(result))\n",
            "/usr/local/lib/python3.11/dist-packages/sklearn/metrics/_classification.py:1565: UndefinedMetricWarning: Precision is ill-defined and being set to 0.0 in labels with no predicted samples. Use `zero_division` parameter to control this behavior.\n",
            "  _warn_prf(average, modifier, f\"{metric.capitalize()} is\", len(result))\n",
            "/usr/local/lib/python3.11/dist-packages/sklearn/metrics/_classification.py:1565: UndefinedMetricWarning: Precision is ill-defined and being set to 0.0 in labels with no predicted samples. Use `zero_division` parameter to control this behavior.\n",
            "  _warn_prf(average, modifier, f\"{metric.capitalize()} is\", len(result))\n",
            "/usr/local/lib/python3.11/dist-packages/sklearn/metrics/_classification.py:1565: UndefinedMetricWarning: Precision is ill-defined and being set to 0.0 in samples with no predicted labels. Use `zero_division` parameter to control this behavior.\n",
            "  _warn_prf(average, modifier, f\"{metric.capitalize()} is\", len(result))\n"
          ]
        }
      ]
    },
    {
      "cell_type": "code",
      "source": [
        "# Create DataFrame from results\n",
        "results_df = pd.DataFrame.from_dict(results, orient='index')\n",
        "print(\"\\n===== Summary Table =====\")\n",
        "print(results_df.round(4))\n",
        "\n",
        "# Save to CSV\n",
        "results_df.to_csv(\"model_evaluation_summary.csv\")\n",
        "\n",
        "# Plotting\n",
        "metrics = ['F1', 'Precision', 'Recall']\n",
        "x = np.arange(len(results_df))\n",
        "width = 0.25\n",
        "\n",
        "fig, ax = plt.subplots(figsize=(10, 6))\n",
        "for i, metric in enumerate(metrics):\n",
        "    scores = results_df[metric]\n",
        "    ax.bar(x + i * width, scores, width, label=metric)\n",
        "\n",
        "ax.set_xticks(x + width)\n",
        "ax.set_xticklabels(results_df.index, rotation=45)\n",
        "ax.set_ylabel(\"Score\")\n",
        "ax.set_title(\"Classifier Evaluation Metrics\")\n",
        "ax.legend()\n",
        "plt.tight_layout()\n",
        "plt.show()\n"
      ],
      "metadata": {
        "colab": {
          "base_uri": "https://localhost:8080/",
          "height": 667
        },
        "id": "SrTXeaQ5FSnJ",
        "outputId": "4e25039e-6e6f-4df4-ee50-c27277b74663"
      },
      "execution_count": 17,
      "outputs": [
        {
          "output_type": "stream",
          "name": "stdout",
          "text": [
            "\n",
            "===== Summary Table =====\n",
            "                               F1  Precision  Recall\n",
            "Random Forest              0.6225     0.8011  0.6414\n",
            "AdaBoost                   0.6203     0.7457  0.6258\n",
            "Decision Tree              0.6162     0.6229  0.6103\n",
            "K-Nearest Neighbors + PCA  0.5796     0.5797  0.5980\n",
            "SVM + PCA                  0.5469     0.5399  0.5882\n",
            "Naïve Bayes + PCA          0.5946     0.5258  0.6900\n"
          ]
        },
        {
          "output_type": "display_data",
          "data": {
            "text/plain": [
              "<Figure size 1000x600 with 1 Axes>"
            ],
            "image/png": "[encoded data removed]"
          },
          "metadata": {}
        }
      ]
    }
  ]
}