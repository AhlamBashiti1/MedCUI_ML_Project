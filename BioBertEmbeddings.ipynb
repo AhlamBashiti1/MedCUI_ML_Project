{
  "nbformat": 4,
  "nbformat_minor": 0,
  "metadata": {
    "colab": {
      "provenance": [],
      "authorship_tag": "ABX9TyMiHruq5NkQs/hIIFL4qk9c",
      "include_colab_link": true
    },
    "kernelspec": {
      "name": "python3",
      "display_name": "Python 3"
    },
    "language_info": {
      "name": "python"
    }
  },
  "cells": [
    {
      "cell_type": "markdown",
      "metadata": {
        "id": "view-in-github",
        "colab_type": "text"
      },
      "source": [
        "<a href=\"https://colab.research.google.com/github/AhlamBashiti1/MedCUI_ML_Project/blob/main/BioBertEmbeddings.ipynb\" target=\"_parent\"><img src=\"https://colab.research.google.com/assets/colab-badge.svg\" alt=\"Open In Colab\"/></a>"
      ]
    },
    {
      "cell_type": "code",
      "execution_count": null,
      "metadata": {
        "id": "PBSaD7p-jMK7"
      },
      "outputs": [],
      "source": [
        "!pip install transformers torch pandas"
      ]
    },
    {
      "cell_type": "code",
      "source": [
        "import pandas as pd\n",
        "import torch\n",
        "import numpy as np\n",
        "from transformers import AutoTokenizer, AutoModel\n",
        "from tqdm import tqdm\n",
        "from google.colab import files\n"
      ],
      "metadata": {
        "id": "Q4gQfCXBlxHY"
      },
      "execution_count": null,
      "outputs": []
    },
    {
      "cell_type": "code",
      "source": [
        "#  Load CSV File\n",
        "uploaded = files.upload()  #  cui_mapping.csv f\n",
        "filename = list(uploaded.keys())[0]\n",
        "df = pd.read_csv(filename)\n"
      ],
      "metadata": {
        "id": "OUQXosrKl6g6"
      },
      "execution_count": null,
      "outputs": []
    },
    {
      "cell_type": "code",
      "source": [
        "tokenizer = AutoTokenizer.from_pretrained(\"dmis-lab/biobert-base-cased-v1.1\")\n",
        "model = AutoModel.from_pretrained(\"dmis-lab/biobert-base-cased-v1.1\")\n",
        "model.eval()\n"
      ],
      "metadata": {
        "id": "P1_bXH8-mHjs"
      },
      "execution_count": null,
      "outputs": []
    },
    {
      "cell_type": "code",
      "source": [
        "def get_embedding(text: str) -> np.ndarray:\n",
        "    \"\"\"Generate BioBERT embedding for a given text using CLS token.\"\"\"\n",
        "    inputs = tokenizer(text, return_tensors=\"pt\", truncation=True, padding=True)\n",
        "    with torch.no_grad():\n",
        "        outputs = model(**inputs)\n",
        "    return outputs.last_hidden_state[:, 0, :].squeeze().numpy()\n"
      ],
      "metadata": {
        "id": "AcXoRNK2mS40"
      },
      "execution_count": null,
      "outputs": []
    },
    {
      "cell_type": "code",
      "source": [
        "def get_embedding(text: str) -> np.ndarray:\n",
        "    \"\"\"Generate BioBERT embedding for a given text using CLS token.\"\"\"\n",
        "    inputs = tokenizer(text, return_tensors=\"pt\", truncation=True, padding=True)\n",
        "    with torch.no_grad():\n",
        "        outputs = model(**inputs)\n",
        "    return outputs.last_hidden_state[:, 0, :].squeeze().numpy()\n",
        "    # Average all token embeddings\n",
        "    #return outputs.last_hidden_state.mean(dim=1).squeeze().numpy()\n",
        "\n",
        "\n",
        "embeddings = []\n",
        "for name in tqdm(df[\"Canonical name\"], desc=\"Generating Embeddings\"):\n",
        "    embeddings.append(get_embedding(str(name)))\n"
      ],
      "metadata": {
        "id": "217nf0wtmetu"
      },
      "execution_count": null,
      "outputs": []
    },
    {
      "cell_type": "code",
      "source": [
        "\n",
        "# Save as .npy file\n",
        "np.save(\"biobert_embeddings.npy\", np.array(embeddings))\n",
        "\n",
        "# Attach embeddings to DataFrame\n",
        "df[\"embedding\"] = [embedding.tolist() for embedding in embeddings]\n",
        "df.to_csv(\"cui_with_embeddings.csv\", index=False)\n",
        "\n",
        "# results\n",
        "files.download(\"biobert_embeddings.npy\")\n",
        "files.download(\"cui_with_embeddings.csv\")\n"
      ],
      "metadata": {
        "id": "lT71JNfemmgL"
      },
      "execution_count": null,
      "outputs": []
    }
  ]
}